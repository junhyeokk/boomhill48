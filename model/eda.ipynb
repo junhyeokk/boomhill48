{
 "cells": [
  {
   "cell_type": "code",
   "execution_count": 1,
   "id": "41096ff9",
   "metadata": {},
   "outputs": [],
   "source": [
    "import pandas as pd"
   ]
  },
  {
   "cell_type": "code",
   "execution_count": 9,
   "id": "61fb3f7d",
   "metadata": {},
   "outputs": [
    {
     "name": "stdout",
     "output_type": "stream",
     "text": [
      "['../csvs/1.csv', '../csvs/2.csv', '../csvs/3.csv', '../csvs/4.csv', '../csvs/5.csv', '../csvs/6.csv', '../csvs/7.csv', '../csvs/8.csv', '../csvs/9.csv']\n"
     ]
    }
   ],
   "source": [
    "label_path = \"../csvs/\"\n",
    "csvs = [label_path + str(i) + \".csv\" for i in range(1, 10)]\n",
    "print(csvs)"
   ]
  },
  {
   "cell_type": "code",
   "execution_count": 10,
   "id": "70d5cf97",
   "metadata": {},
   "outputs": [],
   "source": [
    "csv_df = []\n",
    "\n",
    "for csv in csvs:\n",
    "    csv_df.append(pd.read_csv(csv, names = [\"image\", \"label\"], dtype = {\"image\" : str, \"label\" : str}))"
   ]
  },
  {
   "cell_type": "code",
   "execution_count": 11,
   "id": "42232932",
   "metadata": {},
   "outputs": [],
   "source": [
    "label = pd.concat(csv_df, ignore_index = True)"
   ]
  },
  {
   "cell_type": "code",
   "execution_count": 12,
   "id": "4f26037d",
   "metadata": {},
   "outputs": [
    {
     "data": {
      "text/html": [
       "<div>\n",
       "<style scoped>\n",
       "    .dataframe tbody tr th:only-of-type {\n",
       "        vertical-align: middle;\n",
       "    }\n",
       "\n",
       "    .dataframe tbody tr th {\n",
       "        vertical-align: top;\n",
       "    }\n",
       "\n",
       "    .dataframe thead th {\n",
       "        text-align: right;\n",
       "    }\n",
       "</style>\n",
       "<table border=\"1\" class=\"dataframe\">\n",
       "  <thead>\n",
       "    <tr style=\"text-align: right;\">\n",
       "      <th></th>\n",
       "      <th>image</th>\n",
       "      <th>label</th>\n",
       "    </tr>\n",
       "  </thead>\n",
       "  <tbody>\n",
       "    <tr>\n",
       "      <th>0</th>\n",
       "      <td>0.jpg</td>\n",
       "      <td>00000</td>\n",
       "    </tr>\n",
       "    <tr>\n",
       "      <th>1</th>\n",
       "      <td>1.jpg</td>\n",
       "      <td>00000</td>\n",
       "    </tr>\n",
       "    <tr>\n",
       "      <th>2</th>\n",
       "      <td>2.jpg</td>\n",
       "      <td>00000</td>\n",
       "    </tr>\n",
       "    <tr>\n",
       "      <th>3</th>\n",
       "      <td>3.jpg</td>\n",
       "      <td>00000</td>\n",
       "    </tr>\n",
       "    <tr>\n",
       "      <th>4</th>\n",
       "      <td>4.jpg</td>\n",
       "      <td>00000</td>\n",
       "    </tr>\n",
       "    <tr>\n",
       "      <th>...</th>\n",
       "      <td>...</td>\n",
       "      <td>...</td>\n",
       "    </tr>\n",
       "    <tr>\n",
       "      <th>7546</th>\n",
       "      <td>821.jpg</td>\n",
       "      <td>10000</td>\n",
       "    </tr>\n",
       "    <tr>\n",
       "      <th>7547</th>\n",
       "      <td>822.jpg</td>\n",
       "      <td>10000</td>\n",
       "    </tr>\n",
       "    <tr>\n",
       "      <th>7548</th>\n",
       "      <td>823.jpg</td>\n",
       "      <td>10000</td>\n",
       "    </tr>\n",
       "    <tr>\n",
       "      <th>7549</th>\n",
       "      <td>824.jpg</td>\n",
       "      <td>10000</td>\n",
       "    </tr>\n",
       "    <tr>\n",
       "      <th>7550</th>\n",
       "      <td>825.jpg</td>\n",
       "      <td>10000</td>\n",
       "    </tr>\n",
       "  </tbody>\n",
       "</table>\n",
       "<p>7551 rows × 2 columns</p>\n",
       "</div>"
      ],
      "text/plain": [
       "        image  label\n",
       "0       0.jpg  00000\n",
       "1       1.jpg  00000\n",
       "2       2.jpg  00000\n",
       "3       3.jpg  00000\n",
       "4       4.jpg  00000\n",
       "...       ...    ...\n",
       "7546  821.jpg  10000\n",
       "7547  822.jpg  10000\n",
       "7548  823.jpg  10000\n",
       "7549  824.jpg  10000\n",
       "7550  825.jpg  10000\n",
       "\n",
       "[7551 rows x 2 columns]"
      ]
     },
     "execution_count": 12,
     "metadata": {},
     "output_type": "execute_result"
    }
   ],
   "source": [
    "label"
   ]
  },
  {
   "cell_type": "code",
   "execution_count": 13,
   "id": "6720e3d3",
   "metadata": {
    "scrolled": true
   },
   "outputs": [
    {
     "data": {
      "text/plain": [
       "10000    3464\n",
       "11000    1464\n",
       "10100    1258\n",
       "10101     345\n",
       "00000     238\n",
       "10010     208\n",
       "01000     206\n",
       "11100     128\n",
       "00100      91\n",
       "11001      56\n",
       "01100      31\n",
       "10110      31\n",
       "11010      29\n",
       "11110       1\n",
       "10111       1\n",
       "Name: label, dtype: int64"
      ]
     },
     "execution_count": 13,
     "metadata": {},
     "output_type": "execute_result"
    }
   ],
   "source": [
    "label[\"label\"].value_counts()"
   ]
  },
  {
   "cell_type": "code",
   "execution_count": null,
   "id": "f22c5c74",
   "metadata": {},
   "outputs": [],
   "source": []
  }
 ],
 "metadata": {
  "kernelspec": {
   "display_name": "Python 3 (ipykernel)",
   "language": "python",
   "name": "python3"
  },
  "language_info": {
   "codemirror_mode": {
    "name": "ipython",
    "version": 3
   },
   "file_extension": ".py",
   "mimetype": "text/x-python",
   "name": "python",
   "nbconvert_exporter": "python",
   "pygments_lexer": "ipython3",
   "version": "3.9.16"
  }
 },
 "nbformat": 4,
 "nbformat_minor": 5
}
